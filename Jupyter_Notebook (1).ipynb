{
  "metadata": {
    "kernelspec": {
      "name": "python",
      "display_name": "Pyolite",
      "language": "python"
    },
    "language_info": {
      "codemirror_mode": {
        "name": "python",
        "version": 3
      },
      "file_extension": ".py",
      "mimetype": "text/x-python",
      "name": "python",
      "nbconvert_exporter": "python",
      "pygments_lexer": "ipython3",
      "version": "3.8"
    }
  },
  "nbformat_minor": 4,
  "nbformat": 4,
  "cells": [
    {
      "cell_type": "markdown",
      "source": "<center>\n    <img src=\"https://s3-api.us-geo.objectstorage.softlayer.net/cf-courses-data/CognitiveClass/Logos/organization_logo/organization_logo.png\" width=\"300\" alt=\"cognitiveclass.ai logo\"  />\n</center>\n",
      "metadata": {}
    },
    {
      "cell_type": "markdown",
      "source": "#### Add your code below following the instructions given in the course\n",
      "metadata": {}
    },
    {
      "cell_type": "markdown",
      "source": "# My Jupyter Notebook on IBM Watson Studio",
      "metadata": {}
    },
    {
      "cell_type": "markdown",
      "source": "**Dawn**\n\nJr Financial Analyst",
      "metadata": {}
    },
    {
      "cell_type": "markdown",
      "source": "*I am interested in data science because it has the potential to be an incredibly powerful tool in this day and age and is revolutionizing how business, government, and virtually every sector of the economy operates.*",
      "metadata": {}
    },
    {
      "cell_type": "markdown",
      "source": "### Determining the product of 5 and 7 ",
      "metadata": {}
    },
    {
      "cell_type": "code",
      "source": "5*7",
      "metadata": {
        "trusted": true
      },
      "execution_count": 1,
      "outputs": [
        {
          "execution_count": 1,
          "output_type": "execute_result",
          "data": {
            "text/plain": "35"
          },
          "metadata": {}
        }
      ]
    },
    {
      "cell_type": "markdown",
      "source": "A _product_ is a result of multiplying two numbers (also called _factors_) with one another. For example:\n\nFactor 1|Factor 2|Product\n---|---|---\n5|1|**5**\n5|2|**10**\n5|3|**15**\n\n\nYou can look up the product of two numers up to 12 here:\n<a href=\"https://www.multiplicationtable.net/\">Multiplication Table </a>\n\n\nIf you can commit the 12 × 12 table to memory, feel free to look at the multiplication tables that include factors beyond 12. Challenge yourself to see how many products you can remember. \n\n---\nRemember that mathematics is, at it's core, about understanding the world we live in. It is a means to break complex concepts down into bite-sized pieces. Mastery will get you closer to the understanding  the truth of the universe!\n\n\n\n> *\"Go down deep enough into anything and you will find mathematics\"* -Dean Schlicter",
      "metadata": {}
    },
    {
      "cell_type": "code",
      "source": "",
      "metadata": {},
      "execution_count": null,
      "outputs": []
    }
  ]
}